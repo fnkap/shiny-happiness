{
 "cells": [
  {
   "cell_type": "markdown",
   "metadata": {},
   "source": [
    "# MazeRunner\n",
    "\n",
    "We want to solve the maze exiting game.\n",
    "The maze is composed by a rectangular grid where we have some positions occupied by walls\n",
    "(corresponding to unreachable positions).\n",
    "\n",
    "Given a grid N x M, the initial position and the exit on a border of the grid, we want to find the shortest path\n",
    "to exit the maze.\n",
    "\n",
    "Solve the problem by implementing the following search strategies:\n",
    "- Breadth First\n",
    "- Depth-First\n",
    "- Uniform-cost [consider the following weights for the actions: up = 3; left = 2; right = 2; down = 1]\n",
    "- Iterative Deepening\n",
    "- Greedy\n",
    "- A*\n",
    "\n",
    "Regarding positions on the border, we have the following rules:\n",
    "- Left border: you can’t go left\n",
    "- Right border: you can’t go right\n",
    "- Upper border: you can’t go up\n",
    "- Lower border: you can’t go down\n",
    "\n",
    "Input.\n",
    "\n",
    "- N – Width of the grid\n",
    "- M – Height of the grid\n",
    "- K – Number of unreachable elements\n",
    "- V – Coordinates of unreachable elements\n",
    "- I – Initial position\n",
    "- G – Position of the Goal on the border of the grid\n",
    "\n",
    "Output.\n",
    "\n",
    "A representation of the grid with unreachable elements and the path computed for each algorithm. Use the\n",
    "following conventions:\n",
    "- Unreachable elements are represented by ‘o’\n",
    "- Initial position is represented by ‘i’\n",
    "- Goal position is represented by ‘g’\n",
    "- Path is represented by ‘*’"
   ]
  },
  {
   "cell_type": "markdown",
   "metadata": {},
   "source": [
    "# Proposed solution\n",
    "\n",
    "Import required libraries and enable matplotlib inline"
   ]
  },
  {
   "cell_type": "code",
   "execution_count": 1,
   "metadata": {},
   "outputs": [],
   "source": [
    "import queue\n",
    "from copy import deepcopy\n",
    "\n",
    "import matplotlib.pyplot as plt\n",
    "import numpy\n",
    "\n",
    "from IPython.display import display, Markdown\n",
    "\n",
    "# Enable plots inside the Jupyter Notebook\n",
    "%matplotlib inline"
   ]
  },
  {
   "cell_type": "markdown",
   "metadata": {},
   "source": [
    "Specify N rows and M columns"
   ]
  },
  {
   "cell_type": "code",
   "execution_count": 2,
   "metadata": {},
   "outputs": [],
   "source": [
    "N = 7\n",
    "M = 7"
   ]
  },
  {
   "cell_type": "markdown",
   "metadata": {},
   "source": [
    "The class Node will describe our node in the tree."
   ]
  },
  {
   "cell_type": "code",
   "execution_count": 3,
   "metadata": {},
   "outputs": [],
   "source": [
    "class Node:\n",
    "    def __init__(self, _matrix, depth, cost, last_y, last_x, father, total_cost, _heuristic):\n",
    "        self.matrix = _matrix  # instance variable unique to each instance\n",
    "        self.depth = depth\n",
    "        self.cost = cost\n",
    "        self.last_y = last_y\n",
    "        self.last_x = last_x\n",
    "        self.father = father\n",
    "        self.total_cost = total_cost\n",
    "        self.heuristic = _heuristic\n",
    "\n",
    "    # In the Uniform Cost algorithm we select the \"move\" with lower cost.\n",
    "    # We overwrite the \"lesser than\" method because we need to specify what \"lesser than\" means when speaking of nodes.\n",
    "\n",
    "    def __lt__(self, other):\n",
    "        return self.total_cost < other.total_cost\n",
    "\n",
    "    def __deepcopy__(self, memo):  # memo is a dict of id's to copies\n",
    "        id_self = id(self)  # memoization avoids unnecessary recursion\n",
    "        _copy = memo.get(id_self)\n",
    "        if _copy is None:\n",
    "            _copy = type(self)(\n",
    "                deepcopy(self.matrix),\n",
    "                deepcopy(self.depth),\n",
    "                deepcopy(self.cost),\n",
    "                deepcopy(self.last_y),\n",
    "                deepcopy(self.last_x),\n",
    "                deepcopy(self.father),\n",
    "                deepcopy(self.total_cost),\n",
    "                deepcopy(self.heuristic))\n",
    "            memo[id_self] = _copy\n",
    "        return _copy"
   ]
  },
  {
   "cell_type": "markdown",
   "metadata": {},
   "source": [
    "Let's declare a matrix which represents our maze."
   ]
  },
  {
   "cell_type": "code",
   "execution_count": 4,
   "metadata": {},
   "outputs": [],
   "source": [
    "matrix = numpy.zeros((int(N), int(M)), dtype=int)\n",
    "\n",
    "# Initial position\n",
    "iy = 0\n",
    "ix = 0\n",
    "\n",
    "# Position of the goal\n",
    "gy = 6\n",
    "gx = 6\n",
    "\n",
    "allowed_gx = [0, N - 1]\n",
    "allowed_gy = [0, M - 1]\n",
    "\n",
    "if not ((gx in allowed_gx) or (gy in allowed_gy)):\n",
    "    print(\"Goal position not allowed.\")\n",
    "    print(\"Goal must stay on the border.\")\n",
    "    exit()\n",
    "\n",
    "# Specifying the unreachable elements\n",
    "not_reachable = [[1, 0], [2, 1], [2, 2], [2, 3], [2, 4], [2, 6], [3, 6], [4, 5], [5, 5]]\n",
    "for element in not_reachable:\n",
    "    matrix[element[0], element[1]] = 3\n",
    "\n",
    "# Setting initial position and goal on the matrix\n",
    "matrix[ix, iy] = 1\n",
    "matrix[gx, gy] = 4"
   ]
  },
  {
   "cell_type": "markdown",
   "metadata": {},
   "source": [
    "The heuristic function is a function which helps us to decide which step we should take."
   ]
  },
  {
   "cell_type": "code",
   "execution_count": 5,
   "metadata": {},
   "outputs": [],
   "source": [
    "def heuristic(x, y):\n",
    "    \"\"\"Heuristic function is the absolute distance between two tiles on a 2d plane\"\"\"\n",
    "    distance = abs((gx - x)) + abs((gy - y))\n",
    "    return distance"
   ]
  },
  {
   "cell_type": "markdown",
   "metadata": {},
   "source": [
    "The expand function expands a node in the tree."
   ]
  },
  {
   "cell_type": "code",
   "execution_count": 6,
   "metadata": {},
   "outputs": [],
   "source": [
    "def expand(node, exp):\n",
    "    new_node_last_y = getattr(node, \"last_y\")\n",
    "    new_node_last_x = getattr(node, \"last_x\")\n",
    "    new_node_cost = getattr(node, \"cost\")\n",
    "    # expand up\n",
    "    if exp == 0:\n",
    "        if new_node_last_y > 0:\n",
    "            new_node_last_y -= 1\n",
    "            new_node_cost = 3\n",
    "        else:\n",
    "            return None\n",
    "    # expand down\n",
    "    elif exp == 3:\n",
    "        if new_node_last_y < N - 1:\n",
    "            new_node_last_y += 1\n",
    "            new_node_cost = 1\n",
    "        else:\n",
    "            return None\n",
    "    # expand right\n",
    "    elif exp == 2:\n",
    "        if new_node_last_x < M - 1:\n",
    "            new_node_last_x += 1\n",
    "            new_node_cost = 2\n",
    "        else:\n",
    "            return None\n",
    "    # expand left\n",
    "    elif exp == 1:\n",
    "        if new_node_last_x > 0:\n",
    "            new_node_last_x -= 1\n",
    "            new_node_cost = 2\n",
    "        else:\n",
    "            return None\n",
    "\n",
    "    # If the point is the initial one\n",
    "    if new_node_last_y == ix and new_node_last_x == iy:\n",
    "        return None\n",
    "    # If the point is not reachable\n",
    "    elif [new_node_last_y, new_node_last_x] in not_reachable:\n",
    "        return None\n",
    "    # If the point is already visited\n",
    "    elif node.matrix[new_node_last_y][new_node_last_x] == 2:\n",
    "        return None\n",
    "\n",
    "    new_node = deepcopy(node)\n",
    "    new_node.last_y = new_node_last_y\n",
    "    new_node.last_x = new_node_last_x\n",
    "    new_node.cost = new_node_cost\n",
    "\n",
    "    if not (new_node.last_y == gx and new_node.last_x == gy):\n",
    "        new_node.matrix[new_node_last_y][new_node_last_x] = 2\n",
    "\n",
    "    new_node.depth += 1\n",
    "    new_node.father = node\n",
    "    new_node.total_cost = node.total_cost + new_node.cost\n",
    "    new_node.heuristic = heuristic(new_node.last_y, new_node.last_x)\n",
    "    return new_node"
   ]
  },
  {
   "cell_type": "markdown",
   "metadata": {},
   "source": [
    "# Breadth First Search\n",
    "\n",
    "Here we define the Breadth-First Search algorithm.\n",
    "\n",
    "Remember what Breadth-First Search is about:\n",
    "\n",
    "![title](img/bfs1.png)"
   ]
  },
  {
   "cell_type": "code",
   "execution_count": 7,
   "metadata": {},
   "outputs": [],
   "source": [
    "def bfs(_root):\n",
    "    fringe = queue.Queue()\n",
    "\n",
    "    if not (_root.last_y == gx and _root.last_x == gy):\n",
    "        fringe.put(_root)\n",
    "    else:\n",
    "        print(\"Initial state and final state are the same\")\n",
    "        return\n",
    "\n",
    "    while not fringe.empty():\n",
    "        current_node = fringe.get()\n",
    "        if not (current_node.last_y == gx and current_node.last_x == gy):\n",
    "            for i in range(4):\n",
    "                ret_val = expand(current_node, i)\n",
    "                if ret_val is not None:\n",
    "                    fringe.put(ret_val)\n",
    "        else:\n",
    "            prettify_matrix(current_node, \"Breadth-First Search - Solution found\")\n",
    "            return\n",
    "\n",
    "    print(\"Breadth-First Search - Solution not found\")"
   ]
  },
  {
   "cell_type": "markdown",
   "metadata": {},
   "source": [
    "This function helps us with printing."
   ]
  },
  {
   "cell_type": "code",
   "execution_count": 8,
   "metadata": {},
   "outputs": [],
   "source": [
    "def prettify_matrix(node_input, text=None):\n",
    "    if isinstance(node_input, Node):\n",
    "        _matrix = node_input.matrix\n",
    "    else:\n",
    "        _matrix = node_input\n",
    "\n",
    "    display(Markdown(\"# \"+text))\n",
    "    \n",
    "    plt.rcParams[\"axes.edgecolor\"] = \"black\"\n",
    "    plt.rcParams[\"axes.linewidth\"] = 3\n",
    "    plt.pcolormesh(_matrix)\n",
    "    plt.gca().set_aspect('equal')  # set the x and y axes to the same scale\n",
    "    plt.xticks([])  # remove the tick marks by setting to an empty list\n",
    "    plt.yticks([])  # remove the tick marks by setting to an empty list\n",
    "    plt.gca().invert_yaxis()  # invert the y-axis so the first row of data is at the top\n",
    "    plt.show()\n",
    "    \n",
    "    if isinstance(node_input, Node):\n",
    "        print(\"Solution depth is: {}\".format(node_input.depth))\n",
    "        print(\"Total cost of the solution is: {}\".format(node_input.total_cost))"
   ]
  },
  {
   "cell_type": "markdown",
   "metadata": {},
   "source": [
    "Here we specify a root node. Then we print the starting labyrinth and some informations.\n",
    "Finally we run Breadth-First Search and show the results."
   ]
  },
  {
   "cell_type": "code",
   "execution_count": 9,
   "metadata": {
    "scrolled": false
   },
   "outputs": [
    {
     "name": "stdout",
     "output_type": "stream",
     "text": [
      "===MazeRunner===\n",
      "Labyrinth dimensions: 7x7\n",
      "Unreachable points: 9\n",
      "Starting point: 0, 0\n",
      "Goal: 6, 6\n"
     ]
    },
    {
     "data": {
      "text/markdown": [
       "# The labyrinth is represented by the following matrix:"
      ],
      "text/plain": [
       "<IPython.core.display.Markdown object>"
      ]
     },
     "metadata": {},
     "output_type": "display_data"
    },
    {
     "data": {
      "image/png": "[encoded data removed]",
      "text/plain": [
       "<Figure size 432x288 with 1 Axes>"
      ]
     },
     "metadata": {},
     "output_type": "display_data"
    },
    {
     "data": {
      "text/markdown": [
       "# Breadth-First Search - Solution found"
      ],
      "text/plain": [
       "<IPython.core.display.Markdown object>"
      ]
     },
     "metadata": {},
     "output_type": "display_data"
    },
    {
     "data": {
      "image/png": "[encoded data removed]",
      "text/plain": [
       "<Figure size 432x288 with 1 Axes>"
      ]
     },
     "metadata": {},
     "output_type": "display_data"
    },
    {
     "name": "stdout",
     "output_type": "stream",
     "text": [
      "Solution depth is: 14\n",
      "Total cost of the solution is: 22\n"
     ]
    }
   ],
   "source": [
    "root = Node(matrix, 0, 1, iy, ix, None, 0, heuristic(iy, ix))\n",
    "print(\"===MazeRunner===\")\n",
    "print(\"Labyrinth dimensions: {}x{}\".format(N, M))\n",
    "print(\"Unreachable points: {}\".format(len(not_reachable)))\n",
    "print(\"Starting point: {}, {}\".format(iy, ix))\n",
    "print(\"Goal: {}, {}\".format(gx, gy))\n",
    "prettify_matrix(matrix, \"The labyrinth is represented by the following matrix:\")\n",
    "\n",
    "bfs(root)"
   ]
  },
  {
   "cell_type": "markdown",
   "metadata": {},
   "source": [
    "# Depth First Search\n",
    "\n",
    "Here we define the Depth-First Search algorithm.\n",
    "\n",
    "Remember what Depth-First Search is about:\n",
    "\n",
    "![title](img/dfs1.png)"
   ]
  },
  {
   "cell_type": "code",
   "execution_count": 10,
   "metadata": {},
   "outputs": [],
   "source": [
    "def dfs(_root):\n",
    "    fringe = queue.LifoQueue()\n",
    "\n",
    "    if not (_root.last_y == gx and _root.last_x == gy):\n",
    "        fringe.put(_root)\n",
    "    else:\n",
    "        print(\"Initial state and final state are the same\")\n",
    "        return\n",
    "\n",
    "    while not fringe.empty():\n",
    "        current_node = fringe.get()\n",
    "        if not (current_node.last_y == gx and current_node.last_x == gy):\n",
    "            for i in range(4):\n",
    "                ret_val = expand(current_node, i)\n",
    "                if ret_val is not None:\n",
    "                    fringe.put(ret_val)\n",
    "        else:\n",
    "            prettify_matrix(current_node, \"Depth-First Search - Solution found\")\n",
    "            return\n",
    "\n",
    "    print(\"Depth-First Search - Solution not found\")"
   ]
  },
  {
   "cell_type": "markdown",
   "metadata": {},
   "source": [
    "Now we can run it and show results"
   ]
  },
  {
   "cell_type": "code",
   "execution_count": 11,
   "metadata": {
    "scrolled": true
   },
   "outputs": [
    {
     "data": {
      "text/markdown": [
       "# Depth-First Search - Solution found"
      ],
      "text/plain": [
       "<IPython.core.display.Markdown object>"
      ]
     },
     "metadata": {},
     "output_type": "display_data"
    },
    {
     "data": {
      "image/png": "[encoded data removed]",
      "text/plain": [
       "<Figure size 432x288 with 1 Axes>"
      ]
     },
     "metadata": {},
     "output_type": "display_data"
    },
    {
     "name": "stdout",
     "output_type": "stream",
     "text": [
      "Solution depth is: 14\n",
      "Total cost of the solution is: 22\n"
     ]
    }
   ],
   "source": [
    "dfs(root)"
   ]
  },
  {
   "cell_type": "markdown",
   "metadata": {},
   "source": [
    "# Uniform Cost Search\n",
    "\n",
    "Here we define the Uniform Cost Search algorithm."
   ]
  },
  {
   "cell_type": "code",
   "execution_count": 12,
   "metadata": {},
   "outputs": [],
   "source": [
    "def uniform_cost(_root):\n",
    "    fringe = queue.PriorityQueue()\n",
    "\n",
    "    if not (_root.last_y == gx and _root.last_x == gy):\n",
    "        fringe.put((_root.total_cost, _root))  # Insert into PriorityQueue a tuple (cost, node)\n",
    "    else:\n",
    "        print(\"Initial state and final state are the same\")\n",
    "        return\n",
    "\n",
    "    while not fringe.empty():\n",
    "        current_node = fringe.get()[1]\n",
    "        if not (current_node.last_y == gx and current_node.last_x == gy):\n",
    "            for i in range(4):\n",
    "                ret_val = expand(current_node, i)\n",
    "                if ret_val is not None:\n",
    "                    fringe.put((ret_val.total_cost, ret_val))\n",
    "        else:\n",
    "            prettify_matrix(current_node, \"Uniform Cost - Solution found\")\n",
    "            return\n",
    "    print(\"Uniform Cost - Solution not found\")"
   ]
  },
  {
   "cell_type": "code",
   "execution_count": 13,
   "metadata": {},
   "outputs": [
    {
     "data": {
      "text/markdown": [
       "# Uniform Cost - Solution found"
      ],
      "text/plain": [
       "<IPython.core.display.Markdown object>"
      ]
     },
     "metadata": {},
     "output_type": "display_data"
    },
    {
     "data": {
      "image/png": "[encoded data removed]",
      "text/plain": [
       "<Figure size 432x288 with 1 Axes>"
      ]
     },
     "metadata": {},
     "output_type": "display_data"
    },
    {
     "name": "stdout",
     "output_type": "stream",
     "text": [
      "Solution depth is: 14\n",
      "Total cost of the solution is: 22\n"
     ]
    }
   ],
   "source": [
    "uniform_cost(root)"
   ]
  },
  {
   "cell_type": "markdown",
   "metadata": {},
   "source": [
    "# Iterative Deepening Search\n",
    "\n",
    "Here we define the Iterative Deepening Search algorithm.\n",
    "\n",
    "Here's a picture that shows how Iterative Deepening Search algorithm works.\n",
    "\n",
    "![title](img/ids.png)\n"
   ]
  },
  {
   "cell_type": "code",
   "execution_count": 14,
   "metadata": {},
   "outputs": [],
   "source": [
    "def ids(_root):\n",
    "    limit = 1\n",
    "    while True:\n",
    "        fringe = queue.LifoQueue()\n",
    "\n",
    "        if not (_root.last_y == gx and _root.last_x == gy):\n",
    "            fringe.put(_root)\n",
    "        else:\n",
    "            print(\"Initial state and final state are the same\")\n",
    "            return\n",
    "\n",
    "        while not fringe.empty():\n",
    "            current_node = fringe.get()\n",
    "            if not (current_node.last_y == gx and current_node.last_x == gy):\n",
    "                for i in range(4):\n",
    "                    ret_val = expand(current_node, i)\n",
    "                    if ret_val is not None:\n",
    "                        # Insert the expanded node into the fringe only if the depth is lesser than the max\n",
    "                        if ret_val.depth <= limit:\n",
    "                            fringe.put(ret_val)\n",
    "            else:\n",
    "                prettify_matrix(current_node,\n",
    "                                \"Iterative deepening search - Solution found with limit: {}\".format(limit))\n",
    "                return\n",
    "        limit += 1\n"
   ]
  },
  {
   "cell_type": "code",
   "execution_count": 15,
   "metadata": {},
   "outputs": [
    {
     "data": {
      "text/markdown": [
       "# Iterative deepening search - Solution found with limit: 14"
      ],
      "text/plain": [
       "<IPython.core.display.Markdown object>"
      ]
     },
     "metadata": {},
     "output_type": "display_data"
    },
    {
     "data": {
      "image/png": "[encoded data removed]",
      "text/plain": [
       "<Figure size 432x288 with 1 Axes>"
      ]
     },
     "metadata": {},
     "output_type": "display_data"
    },
    {
     "name": "stdout",
     "output_type": "stream",
     "text": [
      "Solution depth is: 14\n",
      "Total cost of the solution is: 22\n"
     ]
    }
   ],
   "source": [
    "ids(root)"
   ]
  },
  {
   "cell_type": "markdown",
   "metadata": {},
   "source": [
    "# Greedy Search\n",
    "\n",
    "Here we define the Greedy Search algorithm."
   ]
  },
  {
   "cell_type": "code",
   "execution_count": 16,
   "metadata": {},
   "outputs": [],
   "source": [
    "def greedy(_root):\n",
    "    fringe = queue.PriorityQueue()\n",
    "\n",
    "    if not (_root.last_y == gx and _root.last_x == gy):\n",
    "        fringe.put((_root.total_cost, _root))  # Insert into PriorityQueue a tuple (cost, node)\n",
    "    else:\n",
    "        print(\"Initial state and final state are the same\")\n",
    "        return\n",
    "\n",
    "    while not fringe.empty():\n",
    "        current_node = fringe.get()[1]\n",
    "        if not (current_node.last_y == gx and current_node.last_x == gy):\n",
    "            for i in range(4):\n",
    "                ret_val = expand(current_node, i)\n",
    "                if ret_val is not None:\n",
    "                    fringe.put((ret_val.heuristic, ret_val))\n",
    "        else:\n",
    "            prettify_matrix(current_node, \"Greedy Search - Solution found\")\n",
    "            return\n",
    "    print(\"Greedy Search - Solution not found\")"
   ]
  },
  {
   "cell_type": "code",
   "execution_count": 17,
   "metadata": {
    "scrolled": true
   },
   "outputs": [
    {
     "data": {
      "text/markdown": [
       "# Greedy Search - Solution found"
      ],
      "text/plain": [
       "<IPython.core.display.Markdown object>"
      ]
     },
     "metadata": {},
     "output_type": "display_data"
    },
    {
     "data": {
      "image/png": "[encoded data removed]",
      "text/plain": [
       "<Figure size 432x288 with 1 Axes>"
      ]
     },
     "metadata": {},
     "output_type": "display_data"
    },
    {
     "name": "stdout",
     "output_type": "stream",
     "text": [
      "Solution depth is: 14\n",
      "Total cost of the solution is: 22\n"
     ]
    }
   ],
   "source": [
    "greedy(root)"
   ]
  },
  {
   "cell_type": "markdown",
   "metadata": {},
   "source": [
    "# A* Search\n",
    "\n",
    "Here we define the A* Search algorithm."
   ]
  },
  {
   "cell_type": "code",
   "execution_count": 18,
   "metadata": {},
   "outputs": [],
   "source": [
    "def a_star(_root):\n",
    "    fringe = queue.PriorityQueue()\n",
    "\n",
    "    if not (_root.last_y == gx and _root.last_x == gy):\n",
    "        fringe.put((_root.total_cost, _root))  # Insert into PriorityQueue a tuple (cost, node)\n",
    "    else:\n",
    "        print(\"Initial state and final state are the same\")\n",
    "        return\n",
    "\n",
    "    while not fringe.empty():\n",
    "        current_node = fringe.get()[1]\n",
    "        if not (current_node.last_y == gx and current_node.last_x == gy):\n",
    "            for i in range(4):\n",
    "                ret_val = expand(current_node, i)\n",
    "                if ret_val is not None:\n",
    "                    fringe.put((ret_val.heuristic + ret_val.total_cost, ret_val))\n",
    "        else:\n",
    "            prettify_matrix(current_node, \"A Star Search - Solution found\")\n",
    "            return\n",
    "    print(\"A Star Search - Solution not found\")"
   ]
  },
  {
   "cell_type": "code",
   "execution_count": 19,
   "metadata": {},
   "outputs": [
    {
     "data": {
      "text/markdown": [
       "# A Star Search - Solution found"
      ],
      "text/plain": [
       "<IPython.core.display.Markdown object>"
      ]
     },
     "metadata": {},
     "output_type": "display_data"
    },
    {
     "data": {
      "image/png": "[encoded data removed]",
      "text/plain": [
       "<Figure size 432x288 with 1 Axes>"
      ]
     },
     "metadata": {},
     "output_type": "display_data"
    },
    {
     "name": "stdout",
     "output_type": "stream",
     "text": [
      "Solution depth is: 14\n",
      "Total cost of the solution is: 22\n"
     ]
    }
   ],
   "source": [
    "a_star(root)"
   ]
  }
 ],
 "metadata": {
  "kernelspec": {
   "display_name": "Python 3",
   "language": "python",
   "name": "python3"
  },
  "language_info": {
   "codemirror_mode": {
    "name": "ipython",
    "version": 3
   },
   "file_extension": ".py",
   "mimetype": "text/x-python",
   "name": "python",
   "nbconvert_exporter": "python",
   "pygments_lexer": "ipython3",
   "version": "3.7.2"
  }
 },
 "nbformat": 4,
 "nbformat_minor": 2
}
