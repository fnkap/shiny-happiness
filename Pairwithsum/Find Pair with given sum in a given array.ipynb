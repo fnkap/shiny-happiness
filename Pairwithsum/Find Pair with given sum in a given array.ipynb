{
 "cells": [
  {
   "cell_type": "markdown",
   "metadata": {},
   "source": [
    "# Find pair with given sum in a given array.\n",
    "\n",
    "I took an exercise from this video and developed it with Python 3.6\n",
    "\n",
    "https://www.youtube.com/watch?v=XKu_SEDAykw\n",
    "\n",
    "We want to find a pair with a given sum in this array:\n",
    "\n",
    "array = [8, 7, 2, 5, 3, 1]\n",
    "\n",
    "sum = 10\n",
    "\n",
    "We can use several approaches. One simple approach can be:"
   ]
  },
  {
   "cell_type": "code",
   "execution_count": 1,
   "metadata": {},
   "outputs": [
    {
     "name": "stdout",
     "output_type": "stream",
     "text": [
      "Pair found at index 0 and 2\n",
      "Pair found at index 1 and 4\n"
     ]
    }
   ],
   "source": [
    "arr = [8, 7, 2, 5, 3, 1]\n",
    "sum_ = 10\n",
    "\n",
    "def find_pair(arr, sum_):\n",
    "    for i in range(len(arr)-1):\n",
    "        for j in range(i+1, len(arr)):\n",
    "            if arr[i] + arr[j] == sum_:\n",
    "                print(f\"Pair found at index {i} and {j}\")\n",
    "                \n",
    "find_pair(arr, sum_)"
   ]
  },
  {
   "cell_type": "markdown",
   "metadata": {},
   "source": [
    "The time complexity of this solution is $O(n^2)$.\n",
    "\n",
    "Let's try to do better.\n",
    "\n",
    "We can sort the given array in ascending order and search the array using two indices that initially points to the start and the end of the array. We can loop until low index is less than high index. We can compare the sum of the elements at low and high with our desired sum and increment low if what we found is less than what we are searching for. Else, we increment high.\n",
    "\n",
    "Let's take a look at the code."
   ]
  },
  {
   "cell_type": "code",
   "execution_count": 2,
   "metadata": {},
   "outputs": [
    {
     "name": "stdout",
     "output_type": "stream",
     "text": [
      "Pair found: 2 + 8\n",
      "Pair found: 3 + 7\n"
     ]
    }
   ],
   "source": [
    "def find_pair(arr, sum_):\n",
    "    arr.sort()\n",
    "    low = 0\n",
    "    high = len(arr) - 1\n",
    "    \n",
    "    while low < high:\n",
    "        if arr[low] + arr[high] == sum_:\n",
    "            print(f\"Pair found: {arr[low]} + {arr[high]}\")\n",
    "        \n",
    "        if arr[low] + arr[high] < sum_:\n",
    "            low += 1\n",
    "        else:\n",
    "            high -= 1\n",
    "        \n",
    "find_pair(arr, sum_)"
   ]
  },
  {
   "cell_type": "markdown",
   "metadata": {},
   "source": [
    "The time complexity of this solution is $O(nlogn)$.\n",
    "\n",
    "We can still do better than this.\n",
    "\n",
    "We can use a dictionary to solve this problem in linear time. We can insert each element of the array in a dictionary, and check if the difference (arr[i], sum-arr[i]) already exists in the dictionary or not. If the difference is seen before, we print the pair."
   ]
  },
  {
   "cell_type": "code",
   "execution_count": 3,
   "metadata": {},
   "outputs": [
    {
     "name": "stdout",
     "output_type": "stream",
     "text": [
      "Pair found at index 0 and 2\n",
      "Pair found at index 1 and 4\n"
     ]
    }
   ],
   "source": [
    "arr = [8, 7, 2, 5, 3, 1]\n",
    "sum_ = 10\n",
    "\n",
    "import collections\n",
    "\n",
    "def find_pair(arr, sum_):\n",
    "    d = collections.OrderedDict()\n",
    "    \n",
    "    for i in range(len(arr)):\n",
    "        if sum_ - arr[i] in d:\n",
    "            print(f\"Pair found at index {d[sum_ - arr[i]]} and {i}\")\n",
    "        d[arr[i]] = i\n",
    "\n",
    "find_pair(arr, sum_)"
   ]
  },
  {
   "cell_type": "markdown",
   "metadata": {},
   "source": [
    "The time complexity of this solution is $O(n)$."
   ]
  }
 ],
 "metadata": {
  "kernelspec": {
   "display_name": "Python 3",
   "language": "python",
   "name": "python3"
  },
  "language_info": {
   "codemirror_mode": {
    "name": "ipython",
    "version": 3
   },
   "file_extension": ".py",
   "mimetype": "text/x-python",
   "name": "python",
   "nbconvert_exporter": "python",
   "pygments_lexer": "ipython3",
   "version": "3.6.8"
  }
 },
 "nbformat": 4,
 "nbformat_minor": 2
}
